{
 "cells": [
  {
   "cell_type": "code",
   "execution_count": 2,
   "metadata": {},
   "outputs": [],
   "source": [
    "import torch\n",
    "from torch.autograd import Variable"
   ]
  },
  {
   "cell_type": "code",
   "execution_count": 3,
   "metadata": {},
   "outputs": [],
   "source": [
    "z = Variable(torch.Tensor(4, 4).uniform_(-5, 5))"
   ]
  },
  {
   "cell_type": "code",
   "execution_count": 4,
   "metadata": {},
   "outputs": [
    {
     "data": {
      "text/plain": [
       "tensor([[-3.7918,  3.6975,  3.7596, -3.1148],\n",
       "        [ 1.9357,  3.8683,  0.2772,  2.0664],\n",
       "        [ 4.3639,  0.6937, -1.0605, -3.4018],\n",
       "        [-0.6895, -2.2757, -0.0298, -4.3682]])"
      ]
     },
     "execution_count": 4,
     "metadata": {},
     "output_type": "execute_result"
    }
   ],
   "source": [
    "z"
   ]
  },
  {
   "cell_type": "code",
   "execution_count": 5,
   "metadata": {},
   "outputs": [
    {
     "name": "stdout",
     "output_type": "stream",
     "text": [
      "Requires Gradient: False \n",
      "Volatile: False \n",
      "Gradient: None \n"
     ]
    },
    {
     "name": "stderr",
     "output_type": "stream",
     "text": [
      "/tmp/ipykernel_100174/3936047336.py:2: UserWarning: volatile was removed (Variable.volatile is always False)\n",
      "  print(\"Volatile: %s \" % (z.volatile))\n"
     ]
    }
   ],
   "source": [
    "print(\"Requires Gradient: %s \" % (z.requires_grad))\n",
    "print(\"Volatile: %s \" % (z.volatile))\n",
    "print(\"Gradient: %s \" % (z.grad))"
   ]
  },
  {
   "cell_type": "code",
   "execution_count": 6,
   "metadata": {},
   "outputs": [
    {
     "data": {
      "text/plain": [
       "tensor([[-3.7918,  3.6975,  3.7596, -3.1148],\n",
       "        [ 1.9357,  3.8683,  0.2772,  2.0664],\n",
       "        [ 4.3639,  0.6937, -1.0605, -3.4018],\n",
       "        [-0.6895, -2.2757, -0.0298, -4.3682]])"
      ]
     },
     "execution_count": 6,
     "metadata": {},
     "output_type": "execute_result"
    }
   ],
   "source": [
    "z.data"
   ]
  }
 ],
 "metadata": {
  "kernelspec": {
   "display_name": "enfy",
   "language": "python",
   "name": "enfy"
  },
  "language_info": {
   "codemirror_mode": {
    "name": "ipython",
    "version": 3
   },
   "file_extension": ".py",
   "mimetype": "text/x-python",
   "name": "python",
   "nbconvert_exporter": "python",
   "pygments_lexer": "ipython3",
   "version": "3.8.16"
  },
  "orig_nbformat": 4
 },
 "nbformat": 4,
 "nbformat_minor": 2
}

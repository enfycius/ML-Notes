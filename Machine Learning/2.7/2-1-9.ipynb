{
 "cells": [
  {
   "cell_type": "code",
   "execution_count": 3,
   "metadata": {},
   "outputs": [],
   "source": [
    "from torch.autograd import Variable\n",
    "import torch"
   ]
  },
  {
   "cell_type": "code",
   "execution_count": 4,
   "metadata": {},
   "outputs": [],
   "source": [
    "def forward(x):\n",
    "    return x * w"
   ]
  },
  {
   "cell_type": "code",
   "execution_count": 5,
   "metadata": {},
   "outputs": [],
   "source": [
    "def loss(x, y):\n",
    "    y_pred = forward(x)\n",
    "\n",
    "    return (y_pred - y) * (y_pred - y)"
   ]
  },
  {
   "cell_type": "code",
   "execution_count": 6,
   "metadata": {},
   "outputs": [],
   "source": [
    "x_data = [11.0, 22.0, 33.0]\n",
    "y_data = [21.0, 14.0, 64.0]\n",
    "\n",
    "w = Variable(torch.Tensor([1.0]), requires_grad=True)"
   ]
  },
  {
   "cell_type": "code",
   "execution_count": 7,
   "metadata": {},
   "outputs": [
    {
     "name": "stdout",
     "output_type": "stream",
     "text": [
      "\tgrad:  11.0 21.0 tensor(-220.)\n",
      "\tgrad:  22.0 14.0 tensor(2481.6001)\n",
      "\tgrad:  33.0 64.0 tensor(-51303.6484)\n",
      "progress:  0 tensor(604238.8125)\n",
      "\tgrad:  11.0 21.0 tensor(118461.7578)\n",
      "\tgrad:  22.0 14.0 tensor(-671630.6875)\n",
      "\tgrad:  33.0 64.0 tensor(13114108.)\n",
      "progress:  1 tensor(3.9481e+10)\n",
      "\tgrad:  11.0 21.0 tensor(-30279010.)\n",
      "\tgrad:  22.0 14.0 tensor(1.7199e+08)\n",
      "\tgrad:  33.0 64.0 tensor(-3.3589e+09)\n",
      "progress:  2 tensor(2.5900e+15)\n",
      "\tgrad:  11.0 21.0 tensor(7.7553e+09)\n",
      "\tgrad:  22.0 14.0 tensor(-4.4050e+10)\n",
      "\tgrad:  33.0 64.0 tensor(8.6030e+11)\n",
      "progress:  3 tensor(1.6991e+20)\n",
      "\tgrad:  11.0 21.0 tensor(-1.9863e+12)\n",
      "\tgrad:  22.0 14.0 tensor(1.1282e+13)\n",
      "\tgrad:  33.0 64.0 tensor(-2.2034e+14)\n",
      "progress:  4 tensor(1.1146e+25)\n",
      "\tgrad:  11.0 21.0 tensor(5.0875e+14)\n",
      "\tgrad:  22.0 14.0 tensor(-2.8897e+15)\n",
      "\tgrad:  33.0 64.0 tensor(5.6436e+16)\n",
      "progress:  5 tensor(7.3118e+29)\n",
      "\tgrad:  11.0 21.0 tensor(-1.3030e+17)\n",
      "\tgrad:  22.0 14.0 tensor(7.4013e+17)\n",
      "\tgrad:  33.0 64.0 tensor(-1.4455e+19)\n",
      "progress:  6 tensor(4.7966e+34)\n",
      "\tgrad:  11.0 21.0 tensor(3.3374e+19)\n",
      "\tgrad:  22.0 14.0 tensor(-1.8957e+20)\n",
      "\tgrad:  33.0 64.0 tensor(3.7022e+21)\n",
      "progress:  7 tensor(inf)\n",
      "\tgrad:  11.0 21.0 tensor(-8.5480e+21)\n",
      "\tgrad:  22.0 14.0 tensor(4.8553e+22)\n",
      "\tgrad:  33.0 64.0 tensor(-9.4824e+23)\n",
      "progress:  8 tensor(inf)\n",
      "\tgrad:  11.0 21.0 tensor(2.1894e+24)\n",
      "\tgrad:  22.0 14.0 tensor(-1.2436e+25)\n",
      "\tgrad:  33.0 64.0 tensor(2.4287e+26)\n",
      "progress:  9 tensor(inf)\n"
     ]
    }
   ],
   "source": [
    "for epoch in range(10):\n",
    "    for x_val, y_val in zip(x_data, y_data):\n",
    "        l = loss(x_val, y_val)\n",
    "        l.backward()\n",
    "\n",
    "        print(\"\\tgrad: \", x_val, y_val, w.grad.data[0])\n",
    "\n",
    "        w.data = w.data - 0.01 * w.grad.data\n",
    "\n",
    "        w.grad.data.zero_()\n",
    "    \n",
    "    print(\"progress: \", epoch, l.data[0])"
   ]
  },
  {
   "cell_type": "code",
   "execution_count": 8,
   "metadata": {},
   "outputs": [
    {
     "name": "stdout",
     "output_type": "stream",
     "text": [
      "predict (after training) 4 tensor(-9.2687e+24)\n"
     ]
    }
   ],
   "source": [
    "print(\"predict (after training)\", 4, forward(4).data[0])"
   ]
  }
 ],
 "metadata": {
  "kernelspec": {
   "display_name": "enfy",
   "language": "python",
   "name": "enfy"
  },
  "language_info": {
   "codemirror_mode": {
    "name": "ipython",
    "version": 3
   },
   "file_extension": ".py",
   "mimetype": "text/x-python",
   "name": "python",
   "nbconvert_exporter": "python",
   "pygments_lexer": "ipython3",
   "version": "3.8.16"
  },
  "orig_nbformat": 4
 },
 "nbformat": 4,
 "nbformat_minor": 2
}

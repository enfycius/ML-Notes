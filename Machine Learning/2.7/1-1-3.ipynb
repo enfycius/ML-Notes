{
 "cells": [
  {
   "cell_type": "code",
   "execution_count": 1,
   "metadata": {},
   "outputs": [],
   "source": [
    "import torch"
   ]
  },
  {
   "cell_type": "code",
   "execution_count": 2,
   "metadata": {},
   "outputs": [],
   "source": [
    "a = torch.randn(4, 4)"
   ]
  },
  {
   "cell_type": "code",
   "execution_count": 3,
   "metadata": {},
   "outputs": [
    {
     "data": {
      "text/plain": [
       "tensor([[ 4.5902e-01, -1.7777e-01,  2.8145e-01, -1.0434e+00],\n",
       "        [ 6.4630e-01,  1.0731e+00, -9.9784e-01,  1.0956e+00],\n",
       "        [ 1.3761e-01,  4.3819e-01,  1.1196e+00, -2.9732e+00],\n",
       "        [-9.9236e-01,  4.4516e-01, -1.7149e-03, -1.1496e+00]])"
      ]
     },
     "execution_count": 3,
     "metadata": {},
     "output_type": "execute_result"
    }
   ],
   "source": [
    "a"
   ]
  },
  {
   "cell_type": "code",
   "execution_count": 4,
   "metadata": {},
   "outputs": [
    {
     "data": {
      "text/plain": [
       "(tensor([[ 0.4590, -0.1778,  0.2814, -1.0434],\n",
       "         [ 0.6463,  1.0731, -0.9978,  1.0956]]),\n",
       " tensor([[ 1.3761e-01,  4.3819e-01,  1.1196e+00, -2.9732e+00],\n",
       "         [-9.9236e-01,  4.4516e-01, -1.7149e-03, -1.1496e+00]]))"
      ]
     },
     "execution_count": 4,
     "metadata": {},
     "output_type": "execute_result"
    }
   ],
   "source": [
    "torch.chunk(a, 2)"
   ]
  },
  {
   "cell_type": "code",
   "execution_count": 5,
   "metadata": {},
   "outputs": [
    {
     "data": {
      "text/plain": [
       "(tensor([[ 0.4590, -0.1778,  0.2814, -1.0434],\n",
       "         [ 0.6463,  1.0731, -0.9978,  1.0956]]),\n",
       " tensor([[ 1.3761e-01,  4.3819e-01,  1.1196e+00, -2.9732e+00],\n",
       "         [-9.9236e-01,  4.4516e-01, -1.7149e-03, -1.1496e+00]]))"
      ]
     },
     "execution_count": 5,
     "metadata": {},
     "output_type": "execute_result"
    }
   ],
   "source": [
    "torch.chunk(a, 2, 0)"
   ]
  },
  {
   "cell_type": "code",
   "execution_count": 6,
   "metadata": {},
   "outputs": [
    {
     "data": {
      "text/plain": [
       "(tensor([[ 0.4590, -0.1778],\n",
       "         [ 0.6463,  1.0731],\n",
       "         [ 0.1376,  0.4382],\n",
       "         [-0.9924,  0.4452]]),\n",
       " tensor([[ 2.8145e-01, -1.0434e+00],\n",
       "         [-9.9784e-01,  1.0956e+00],\n",
       "         [ 1.1196e+00, -2.9732e+00],\n",
       "         [-1.7149e-03, -1.1496e+00]]))"
      ]
     },
     "execution_count": 6,
     "metadata": {},
     "output_type": "execute_result"
    }
   ],
   "source": [
    "torch.chunk(a, 2, 1)"
   ]
  }
 ],
 "metadata": {
  "kernelspec": {
   "display_name": "enfy",
   "language": "python",
   "name": "enfy"
  },
  "language_info": {
   "codemirror_mode": {
    "name": "ipython",
    "version": 3
   },
   "file_extension": ".py",
   "mimetype": "text/x-python",
   "name": "python",
   "nbconvert_exporter": "python",
   "pygments_lexer": "ipython3",
   "version": "3.8.16"
  },
  "orig_nbformat": 4
 },
 "nbformat": 4,
 "nbformat_minor": 2
}

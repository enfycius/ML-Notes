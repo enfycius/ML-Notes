{
 "cells": [
  {
   "cell_type": "code",
   "execution_count": 1,
   "metadata": {},
   "outputs": [],
   "source": [
    "import torch"
   ]
  },
  {
   "cell_type": "code",
   "execution_count": 5,
   "metadata": {},
   "outputs": [],
   "source": [
    "mat1 = torch.FloatTensor(4, 4).uniform_(0, 1)"
   ]
  },
  {
   "cell_type": "code",
   "execution_count": 6,
   "metadata": {},
   "outputs": [
    {
     "data": {
      "text/plain": [
       "tensor([[0.5468, 0.1778, 0.4480, 0.5566],\n",
       "        [0.8964, 0.9685, 0.4558, 0.9977],\n",
       "        [0.0166, 0.5548, 0.2433, 0.7819],\n",
       "        [0.4518, 0.5381, 0.9541, 0.8290]])"
      ]
     },
     "execution_count": 6,
     "metadata": {},
     "output_type": "execute_result"
    }
   ],
   "source": [
    "mat1"
   ]
  },
  {
   "cell_type": "code",
   "execution_count": 7,
   "metadata": {},
   "outputs": [],
   "source": [
    "mat2 = torch.FloatTensor(5, 4).uniform_(0, 1)"
   ]
  },
  {
   "cell_type": "code",
   "execution_count": 8,
   "metadata": {},
   "outputs": [
    {
     "data": {
      "text/plain": [
       "tensor([[0.9118, 0.4237, 0.7060, 0.3372],\n",
       "        [0.6695, 0.2520, 0.8409, 0.0578],\n",
       "        [0.5613, 0.9566, 0.5450, 0.0556],\n",
       "        [0.5068, 0.3618, 0.5411, 0.4894],\n",
       "        [0.7332, 0.4136, 0.8484, 0.6287]])"
      ]
     },
     "execution_count": 8,
     "metadata": {},
     "output_type": "execute_result"
    }
   ],
   "source": [
    "mat2"
   ]
  },
  {
   "cell_type": "code",
   "execution_count": 9,
   "metadata": {},
   "outputs": [],
   "source": [
    "vec1 = torch.FloatTensor(4).uniform_(0, 1)"
   ]
  },
  {
   "cell_type": "code",
   "execution_count": 10,
   "metadata": {},
   "outputs": [
    {
     "data": {
      "text/plain": [
       "tensor([0.1123, 0.7166, 0.9619, 0.1515])"
      ]
     },
     "execution_count": 10,
     "metadata": {},
     "output_type": "execute_result"
    }
   ],
   "source": [
    "vec1"
   ]
  },
  {
   "cell_type": "code",
   "execution_count": 11,
   "metadata": {},
   "outputs": [
    {
     "data": {
      "text/plain": [
       "tensor([[11.0468, 10.6778, 10.9480, 11.0566],\n",
       "        [11.3964, 11.4685, 10.9558, 11.4977],\n",
       "        [10.5166, 11.0548, 10.7433, 11.2819],\n",
       "        [10.9518, 11.0381, 11.4541, 11.3290]])"
      ]
     },
     "execution_count": 11,
     "metadata": {},
     "output_type": "execute_result"
    }
   ],
   "source": [
    "mat1 + 10.5"
   ]
  },
  {
   "cell_type": "code",
   "execution_count": 12,
   "metadata": {},
   "outputs": [
    {
     "data": {
      "text/plain": [
       "tensor([[ 0.7118,  0.2237,  0.5060,  0.1372],\n",
       "        [ 0.4695,  0.0520,  0.6409, -0.1422],\n",
       "        [ 0.3613,  0.7566,  0.3450, -0.1444],\n",
       "        [ 0.3068,  0.1618,  0.3411,  0.2894],\n",
       "        [ 0.5332,  0.2136,  0.6484,  0.4287]])"
      ]
     },
     "execution_count": 12,
     "metadata": {},
     "output_type": "execute_result"
    }
   ],
   "source": [
    "mat2 - 0.20"
   ]
  },
  {
   "cell_type": "code",
   "execution_count": 13,
   "metadata": {},
   "outputs": [
    {
     "data": {
      "text/plain": [
       "tensor([[0.6591, 0.8944, 1.4099, 0.7080],\n",
       "        [1.0088, 1.6851, 1.4177, 1.1492],\n",
       "        [0.1289, 1.2714, 1.2052, 0.9333],\n",
       "        [0.5642, 1.2547, 1.9160, 0.9805]])"
      ]
     },
     "execution_count": 13,
     "metadata": {},
     "output_type": "execute_result"
    }
   ],
   "source": [
    "mat1 + vec1"
   ]
  },
  {
   "cell_type": "code",
   "execution_count": 14,
   "metadata": {},
   "outputs": [
    {
     "data": {
      "text/plain": [
       "tensor([[1.0241, 1.1403, 1.6678, 0.4886],\n",
       "        [0.7819, 0.9685, 1.8028, 0.2092],\n",
       "        [0.6736, 1.6732, 1.5069, 0.2071],\n",
       "        [0.6192, 1.0784, 1.5030, 0.6409],\n",
       "        [0.8455, 1.1302, 1.8103, 0.7801]])"
      ]
     },
     "execution_count": 14,
     "metadata": {},
     "output_type": "execute_result"
    }
   ],
   "source": [
    "mat2 + vec1"
   ]
  }
 ],
 "metadata": {
  "kernelspec": {
   "display_name": "enfy",
   "language": "python",
   "name": "enfy"
  },
  "language_info": {
   "codemirror_mode": {
    "name": "ipython",
    "version": 3
   },
   "file_extension": ".py",
   "mimetype": "text/x-python",
   "name": "python",
   "nbconvert_exporter": "python",
   "pygments_lexer": "ipython3",
   "version": "3.8.16"
  },
  "orig_nbformat": 4
 },
 "nbformat": 4,
 "nbformat_minor": 2
}

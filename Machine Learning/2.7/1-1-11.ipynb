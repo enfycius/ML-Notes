{
 "cells": [
  {
   "cell_type": "code",
   "execution_count": 1,
   "metadata": {},
   "outputs": [],
   "source": [
    "import torch"
   ]
  },
  {
   "cell_type": "code",
   "execution_count": 2,
   "metadata": {},
   "outputs": [
    {
     "data": {
      "text/plain": [
       "<torch._C.Generator at 0x7f434020e130>"
      ]
     },
     "execution_count": 2,
     "metadata": {},
     "output_type": "execute_result"
    }
   ],
   "source": [
    "torch.manual_seed(1234)"
   ]
  },
  {
   "cell_type": "code",
   "execution_count": 4,
   "metadata": {},
   "outputs": [],
   "source": [
    "x = torch.randn(5, 5)"
   ]
  },
  {
   "cell_type": "code",
   "execution_count": 6,
   "metadata": {},
   "outputs": [
    {
     "data": {
      "text/plain": [
       "tensor([[ 0.0190,  0.0220,  1.1532, -0.3393,  0.1559],\n",
       "        [ 0.8966, -0.2968,  1.5985, -0.0496,  0.1825],\n",
       "        [-0.0737,  0.3147, -1.0369,  0.2100,  0.6144],\n",
       "        [-0.0552, -0.6125, -1.7970,  0.8728,  0.7670],\n",
       "        [-0.1138, -0.9428,  0.7540,  0.1365, -2.3332]])"
      ]
     },
     "execution_count": 6,
     "metadata": {},
     "output_type": "execute_result"
    }
   ],
   "source": [
    "x"
   ]
  },
  {
   "cell_type": "code",
   "execution_count": 7,
   "metadata": {},
   "outputs": [
    {
     "data": {
      "text/plain": [
       "tensor([[ 0.,  0.,  1., -1.,  0.],\n",
       "        [ 0., -1.,  1., -1.,  0.],\n",
       "        [-1.,  0., -2.,  0.,  0.],\n",
       "        [-1., -1., -2.,  0.,  0.],\n",
       "        [-1., -1.,  0.,  0., -3.]])"
      ]
     },
     "execution_count": 7,
     "metadata": {},
     "output_type": "execute_result"
    }
   ],
   "source": [
    "torch.floor(x)"
   ]
  },
  {
   "cell_type": "code",
   "execution_count": 5,
   "metadata": {},
   "outputs": [
    {
     "data": {
      "text/plain": [
       "tensor([[ 0.0000,  0.0000,  0.4000, -0.3000,  0.0000],\n",
       "        [ 0.0000, -0.3000,  0.4000, -0.3000,  0.0000],\n",
       "        [-0.3000,  0.0000, -0.3000,  0.0000,  0.0000],\n",
       "        [-0.3000, -0.3000, -0.3000,  0.0000,  0.0000],\n",
       "        [-0.3000, -0.3000,  0.0000,  0.0000, -0.3000]])"
      ]
     },
     "execution_count": 5,
     "metadata": {},
     "output_type": "execute_result"
    }
   ],
   "source": [
    "torch.clamp(torch.floor(x), min=-0.3, max=0.4)"
   ]
  },
  {
   "cell_type": "code",
   "execution_count": 8,
   "metadata": {},
   "outputs": [
    {
     "data": {
      "text/plain": [
       "tensor([[ 0.0000,  0.0000,  1.0000, -0.3000,  0.0000],\n",
       "        [ 0.0000, -0.3000,  1.0000, -0.3000,  0.0000],\n",
       "        [-0.3000,  0.0000, -0.3000,  0.0000,  0.0000],\n",
       "        [-0.3000, -0.3000, -0.3000,  0.0000,  0.0000],\n",
       "        [-0.3000, -0.3000,  0.0000,  0.0000, -0.3000]])"
      ]
     },
     "execution_count": 8,
     "metadata": {},
     "output_type": "execute_result"
    }
   ],
   "source": [
    "torch.clamp(torch.floor(x), min=-0.3)"
   ]
  },
  {
   "cell_type": "code",
   "execution_count": 9,
   "metadata": {},
   "outputs": [
    {
     "data": {
      "text/plain": [
       "tensor([[ 0.0000,  0.0000,  0.3000, -1.0000,  0.0000],\n",
       "        [ 0.0000, -1.0000,  0.3000, -1.0000,  0.0000],\n",
       "        [-1.0000,  0.0000, -2.0000,  0.0000,  0.0000],\n",
       "        [-1.0000, -1.0000, -2.0000,  0.0000,  0.0000],\n",
       "        [-1.0000, -1.0000,  0.0000,  0.0000, -3.0000]])"
      ]
     },
     "execution_count": 9,
     "metadata": {},
     "output_type": "execute_result"
    }
   ],
   "source": [
    "torch.clamp(torch.floor(x), max=0.3)"
   ]
  }
 ],
 "metadata": {
  "kernelspec": {
   "display_name": "enfy",
   "language": "python",
   "name": "enfy"
  },
  "language_info": {
   "codemirror_mode": {
    "name": "ipython",
    "version": 3
   },
   "file_extension": ".py",
   "mimetype": "text/x-python",
   "name": "python",
   "nbconvert_exporter": "python",
   "pygments_lexer": "ipython3",
   "version": "3.8.16"
  },
  "orig_nbformat": 4
 },
 "nbformat": 4,
 "nbformat_minor": 2
}

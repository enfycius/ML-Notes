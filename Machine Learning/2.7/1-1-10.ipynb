{
 "cells": [
  {
   "cell_type": "code",
   "execution_count": 1,
   "metadata": {},
   "outputs": [],
   "source": [
    "import torch"
   ]
  },
  {
   "cell_type": "code",
   "execution_count": 2,
   "metadata": {},
   "outputs": [
    {
     "data": {
      "text/plain": [
       "<torch._C.Generator at 0x7f92267dc110>"
      ]
     },
     "execution_count": 2,
     "metadata": {},
     "output_type": "execute_result"
    }
   ],
   "source": [
    "torch.manual_seed(1234)"
   ]
  },
  {
   "cell_type": "code",
   "execution_count": 3,
   "metadata": {},
   "outputs": [
    {
     "data": {
      "text/plain": [
       "tensor([[-0.1117, -0.4966,  0.1631, -0.8817,  0.0539],\n",
       "        [ 0.6684, -0.0597, -0.4675, -0.2153, -0.7141],\n",
       "        [-1.0831, -0.5547,  0.9717, -0.5150,  1.4255],\n",
       "        [ 0.7987, -1.4949,  1.4778, -0.1696, -0.9919],\n",
       "        [-1.4569,  0.2563, -0.4030,  0.4195,  0.9380]])"
      ]
     },
     "execution_count": 3,
     "metadata": {},
     "output_type": "execute_result"
    }
   ],
   "source": [
    "torch.randn(5, 5)"
   ]
  },
  {
   "cell_type": "code",
   "execution_count": 4,
   "metadata": {},
   "outputs": [
    {
     "data": {
      "text/plain": [
       "<torch._C.Generator at 0x7f92267dc110>"
      ]
     },
     "execution_count": 4,
     "metadata": {},
     "output_type": "execute_result"
    }
   ],
   "source": [
    "torch.manual_seed(1234)"
   ]
  },
  {
   "cell_type": "code",
   "execution_count": 5,
   "metadata": {},
   "outputs": [
    {
     "data": {
      "text/plain": [
       "tensor([[-0., -0.,  1., -0.,  1.],\n",
       "        [ 1., -0., -0., -0., -0.],\n",
       "        [-1., -0.,  1., -0.,  2.],\n",
       "        [ 1., -1.,  2., -0., -0.],\n",
       "        [-1.,  1., -0.,  1.,  1.]])"
      ]
     },
     "execution_count": 5,
     "metadata": {},
     "output_type": "execute_result"
    }
   ],
   "source": [
    "torch.ceil(torch.randn(5, 5))"
   ]
  },
  {
   "cell_type": "code",
   "execution_count": 6,
   "metadata": {},
   "outputs": [
    {
     "data": {
      "text/plain": [
       "tensor([[ 0.,  0.,  1., -1.,  0.],\n",
       "        [ 0., -1.,  1., -1.,  0.],\n",
       "        [-1.,  0., -2.,  0.,  0.],\n",
       "        [-1., -1., -2.,  0.,  0.],\n",
       "        [-1., -1.,  0.,  0., -3.]])"
      ]
     },
     "execution_count": 6,
     "metadata": {},
     "output_type": "execute_result"
    }
   ],
   "source": [
    "torch.floor(torch.randn(5, 5))"
   ]
  }
 ],
 "metadata": {
  "kernelspec": {
   "display_name": "enfy",
   "language": "python",
   "name": "enfy"
  },
  "language_info": {
   "codemirror_mode": {
    "name": "ipython",
    "version": 3
   },
   "file_extension": ".py",
   "mimetype": "text/x-python",
   "name": "python",
   "nbconvert_exporter": "python",
   "pygments_lexer": "ipython3",
   "version": "3.8.16"
  },
  "orig_nbformat": 4
 },
 "nbformat": 4,
 "nbformat_minor": 2
}

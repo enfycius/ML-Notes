{
 "cells": [
  {
   "cell_type": "code",
   "execution_count": 1,
   "metadata": {},
   "outputs": [],
   "source": [
    "import torch"
   ]
  },
  {
   "cell_type": "code",
   "execution_count": 2,
   "metadata": {},
   "outputs": [],
   "source": [
    "x = torch.randn(4, 5)"
   ]
  },
  {
   "cell_type": "code",
   "execution_count": 3,
   "metadata": {},
   "outputs": [
    {
     "data": {
      "text/plain": [
       "tensor([[-0.6463,  1.3836,  2.3073, -0.8254,  0.1415],\n",
       "        [ 1.2465, -0.0366, -1.4175, -1.3118, -2.4377],\n",
       "        [-0.8946, -0.2246,  0.2709,  0.5813,  0.4900],\n",
       "        [ 0.0614,  0.9231,  1.1803, -0.7082,  0.5932]])"
      ]
     },
     "execution_count": 3,
     "metadata": {},
     "output_type": "execute_result"
    }
   ],
   "source": [
    "x"
   ]
  },
  {
   "cell_type": "code",
   "execution_count": 4,
   "metadata": {},
   "outputs": [
    {
     "data": {
      "text/plain": [
       "tensor([[-0.6463,  1.3836,  2.3073, -0.8254,  0.1415],\n",
       "        [ 1.2465, -0.0366, -1.4175, -1.3118, -2.4377],\n",
       "        [-0.8946, -0.2246,  0.2709,  0.5813,  0.4900],\n",
       "        [ 0.0614,  0.9231,  1.1803, -0.7082,  0.5932],\n",
       "        [-0.6463,  1.3836,  2.3073, -0.8254,  0.1415],\n",
       "        [ 1.2465, -0.0366, -1.4175, -1.3118, -2.4377],\n",
       "        [-0.8946, -0.2246,  0.2709,  0.5813,  0.4900],\n",
       "        [ 0.0614,  0.9231,  1.1803, -0.7082,  0.5932]])"
      ]
     },
     "execution_count": 4,
     "metadata": {},
     "output_type": "execute_result"
    }
   ],
   "source": [
    "torch.cat((x, x))"
   ]
  },
  {
   "cell_type": "code",
   "execution_count": 5,
   "metadata": {},
   "outputs": [
    {
     "data": {
      "text/plain": [
       "tensor([[-0.6463,  1.3836,  2.3073, -0.8254,  0.1415, -0.6463,  1.3836,  2.3073,\n",
       "         -0.8254,  0.1415, -0.6463,  1.3836,  2.3073, -0.8254,  0.1415],\n",
       "        [ 1.2465, -0.0366, -1.4175, -1.3118, -2.4377,  1.2465, -0.0366, -1.4175,\n",
       "         -1.3118, -2.4377,  1.2465, -0.0366, -1.4175, -1.3118, -2.4377],\n",
       "        [-0.8946, -0.2246,  0.2709,  0.5813,  0.4900, -0.8946, -0.2246,  0.2709,\n",
       "          0.5813,  0.4900, -0.8946, -0.2246,  0.2709,  0.5813,  0.4900],\n",
       "        [ 0.0614,  0.9231,  1.1803, -0.7082,  0.5932,  0.0614,  0.9231,  1.1803,\n",
       "         -0.7082,  0.5932,  0.0614,  0.9231,  1.1803, -0.7082,  0.5932]])"
      ]
     },
     "execution_count": 5,
     "metadata": {},
     "output_type": "execute_result"
    }
   ],
   "source": [
    "torch.cat((x, x, x), 1)"
   ]
  },
  {
   "cell_type": "code",
   "execution_count": 6,
   "metadata": {},
   "outputs": [
    {
     "data": {
      "text/plain": [
       "tensor([[-0.6463,  1.3836,  2.3073, -0.8254,  0.1415],\n",
       "        [ 1.2465, -0.0366, -1.4175, -1.3118, -2.4377],\n",
       "        [-0.8946, -0.2246,  0.2709,  0.5813,  0.4900],\n",
       "        [ 0.0614,  0.9231,  1.1803, -0.7082,  0.5932],\n",
       "        [-0.6463,  1.3836,  2.3073, -0.8254,  0.1415],\n",
       "        [ 1.2465, -0.0366, -1.4175, -1.3118, -2.4377],\n",
       "        [-0.8946, -0.2246,  0.2709,  0.5813,  0.4900],\n",
       "        [ 0.0614,  0.9231,  1.1803, -0.7082,  0.5932]])"
      ]
     },
     "execution_count": 6,
     "metadata": {},
     "output_type": "execute_result"
    }
   ],
   "source": [
    "torch.cat((x, x), 0)"
   ]
  }
 ],
 "metadata": {
  "kernelspec": {
   "display_name": "enfy",
   "language": "python",
   "name": "enfy"
  },
  "language_info": {
   "codemirror_mode": {
    "name": "ipython",
    "version": 3
   },
   "file_extension": ".py",
   "mimetype": "text/x-python",
   "name": "python",
   "nbconvert_exporter": "python",
   "pygments_lexer": "ipython3",
   "version": "3.8.16"
  },
  "orig_nbformat": 4
 },
 "nbformat": 4,
 "nbformat_minor": 2
}

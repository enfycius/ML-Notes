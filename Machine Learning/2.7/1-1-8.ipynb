{
 "cells": [
  {
   "cell_type": "code",
   "execution_count": 1,
   "metadata": {},
   "outputs": [],
   "source": [
    "import torch"
   ]
  },
  {
   "cell_type": "code",
   "execution_count": 2,
   "metadata": {},
   "outputs": [],
   "source": [
    "x = torch.randn(4, 5)"
   ]
  },
  {
   "cell_type": "code",
   "execution_count": 3,
   "metadata": {},
   "outputs": [
    {
     "data": {
      "text/plain": [
       "tensor([[19.0281, 20.4784, 19.0961, 19.9266, 18.9415],\n",
       "        [20.0720, 17.2433, 19.8123, 19.9099, 19.5800],\n",
       "        [19.5637, 20.2140, 17.4826, 21.4642, 19.5709],\n",
       "        [20.6016, 21.9142, 18.2219, 19.1960, 19.1654]])"
      ]
     },
     "execution_count": 3,
     "metadata": {},
     "output_type": "execute_result"
    }
   ],
   "source": [
    "torch.add(x, 20)"
   ]
  },
  {
   "cell_type": "code",
   "execution_count": 4,
   "metadata": {},
   "outputs": [
    {
     "data": {
      "text/plain": [
       "tensor([[-0.9719,  0.4784, -0.9039, -0.0734, -1.0585],\n",
       "        [ 0.0720, -2.7567, -0.1877, -0.0901, -0.4200],\n",
       "        [-0.4363,  0.2140, -2.5174,  1.4642, -0.4291],\n",
       "        [ 0.6016,  1.9142, -1.7781, -0.8040, -0.8346]])"
      ]
     },
     "execution_count": 4,
     "metadata": {},
     "output_type": "execute_result"
    }
   ],
   "source": [
    "x"
   ]
  },
  {
   "cell_type": "code",
   "execution_count": 5,
   "metadata": {},
   "outputs": [
    {
     "data": {
      "text/plain": [
       "tensor([[-1.9437,  0.9567, -1.8077, -0.1467, -2.1171],\n",
       "        [ 0.1440, -5.5134, -0.3753, -0.1801, -0.8400],\n",
       "        [-0.8725,  0.4280, -5.0347,  2.9284, -0.8582],\n",
       "        [ 1.2031,  3.8285, -3.5562, -1.6080, -1.6691]])"
      ]
     },
     "execution_count": 5,
     "metadata": {},
     "output_type": "execute_result"
    }
   ],
   "source": [
    "torch.mul(x, 2)"
   ]
  },
  {
   "cell_type": "code",
   "execution_count": 6,
   "metadata": {},
   "outputs": [
    {
     "data": {
      "text/plain": [
       "tensor([[-0.9719,  0.4784, -0.9039, -0.0734, -1.0585],\n",
       "        [ 0.0720, -2.7567, -0.1877, -0.0901, -0.4200],\n",
       "        [-0.4363,  0.2140, -2.5174,  1.4642, -0.4291],\n",
       "        [ 0.6016,  1.9142, -1.7781, -0.8040, -0.8346]])"
      ]
     },
     "execution_count": 6,
     "metadata": {},
     "output_type": "execute_result"
    }
   ],
   "source": [
    "x"
   ]
  }
 ],
 "metadata": {
  "kernelspec": {
   "display_name": "enfy",
   "language": "python",
   "name": "enfy"
  },
  "language_info": {
   "codemirror_mode": {
    "name": "ipython",
    "version": 3
   },
   "file_extension": ".py",
   "mimetype": "text/x-python",
   "name": "python",
   "nbconvert_exporter": "python",
   "pygments_lexer": "ipython3",
   "version": "3.8.16"
  },
  "orig_nbformat": 4
 },
 "nbformat": 4,
 "nbformat_minor": 2
}

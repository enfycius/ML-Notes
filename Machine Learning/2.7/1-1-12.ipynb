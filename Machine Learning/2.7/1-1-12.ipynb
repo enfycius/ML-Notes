{
 "cells": [
  {
   "cell_type": "code",
   "execution_count": 6,
   "metadata": {},
   "outputs": [],
   "source": [
    "import torch\n",
    "import numpy as np"
   ]
  },
  {
   "cell_type": "code",
   "execution_count": 2,
   "metadata": {},
   "outputs": [],
   "source": [
    "x = torch.randn(5, 5)"
   ]
  },
  {
   "cell_type": "code",
   "execution_count": 4,
   "metadata": {},
   "outputs": [
    {
     "data": {
      "text/plain": [
       "tensor([[-1.7811,  0.3628,  1.5180, -1.4862,  1.1886],\n",
       "        [-2.9227, -1.0068, -1.6437,  0.3467, -1.0407],\n",
       "        [ 0.5290,  0.9341, -0.1420, -1.4404,  0.3373],\n",
       "        [ 0.9642,  0.0343, -1.5873, -0.4205,  1.0879],\n",
       "        [ 1.0318, -0.6518, -0.2708,  2.2249,  0.4754]])"
      ]
     },
     "execution_count": 4,
     "metadata": {},
     "output_type": "execute_result"
    }
   ],
   "source": [
    "x"
   ]
  },
  {
   "cell_type": "code",
   "execution_count": 3,
   "metadata": {},
   "outputs": [
    {
     "data": {
      "text/plain": [
       "tensor([[0.1685, 1.4373, 4.5630, 0.2262, 3.2825],\n",
       "        [0.0538, 0.3654, 0.1933, 1.4143, 0.3532],\n",
       "        [1.6973, 2.5450, 0.8677, 0.2368, 1.4011],\n",
       "        [2.6226, 1.0349, 0.2045, 0.6567, 2.9681],\n",
       "        [2.8062, 0.5211, 0.7628, 9.2524, 1.6087]])"
      ]
     },
     "execution_count": 3,
     "metadata": {},
     "output_type": "execute_result"
    }
   ],
   "source": [
    "torch.exp(x)"
   ]
  },
  {
   "cell_type": "code",
   "execution_count": 7,
   "metadata": {},
   "outputs": [
    {
     "data": {
      "text/plain": [
       "tensor([[0.1685, 1.4373, 4.5630, 0.2262, 3.2825],\n",
       "        [0.0538, 0.3654, 0.1933, 1.4143, 0.3532],\n",
       "        [1.6973, 2.5450, 0.8677, 0.2368, 1.4011],\n",
       "        [2.6226, 1.0349, 0.2045, 0.6567, 2.9681],\n",
       "        [2.8062, 0.5211, 0.7628, 9.2524, 1.6087]])"
      ]
     },
     "execution_count": 7,
     "metadata": {},
     "output_type": "execute_result"
    }
   ],
   "source": [
    "np.exp(x)"
   ]
  },
  {
   "cell_type": "code",
   "execution_count": 8,
   "metadata": {},
   "outputs": [
    {
     "data": {
      "text/plain": [
       "tensor([[ 8.2189, 10.3628, 11.5180,  8.5138, 11.1886],\n",
       "        [ 7.0773,  8.9932,  8.3563, 10.3467,  8.9593],\n",
       "        [10.5290, 10.9341,  9.8580,  8.5596, 10.3372],\n",
       "        [10.9642, 10.0343,  8.4127,  9.5795, 11.0879],\n",
       "        [11.0318,  9.3482,  9.7292, 12.2249, 10.4754]])"
      ]
     },
     "execution_count": 8,
     "metadata": {},
     "output_type": "execute_result"
    }
   ],
   "source": [
    "torch.add(x, 10)"
   ]
  },
  {
   "cell_type": "code",
   "execution_count": 9,
   "metadata": {},
   "outputs": [
    {
     "data": {
      "text/plain": [
       "tensor([[0.2189, 0.3628, 0.5180, 0.5138, 0.1886],\n",
       "        [0.0773, 0.9932, 0.3563, 0.3467, 0.9593],\n",
       "        [0.5290, 0.9341, 0.8580, 0.5596, 0.3372],\n",
       "        [0.9642, 0.0343, 0.4127, 0.5795, 0.0879],\n",
       "        [0.0318, 0.3482, 0.7292, 0.2249, 0.4754]])"
      ]
     },
     "execution_count": 9,
     "metadata": {},
     "output_type": "execute_result"
    }
   ],
   "source": [
    "torch.frac(torch.add(x, 10))"
   ]
  }
 ],
 "metadata": {
  "kernelspec": {
   "display_name": "enfy",
   "language": "python",
   "name": "enfy"
  },
  "orig_nbformat": 4
 },
 "nbformat": 4,
 "nbformat_minor": 2
}

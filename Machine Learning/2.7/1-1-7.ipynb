{
 "cells": [
  {
   "cell_type": "code",
   "execution_count": 1,
   "metadata": {},
   "outputs": [],
   "source": [
    "import torch"
   ]
  },
  {
   "cell_type": "code",
   "execution_count": 2,
   "metadata": {},
   "outputs": [],
   "source": [
    "x = torch.randn(4, 5)"
   ]
  },
  {
   "cell_type": "code",
   "execution_count": 3,
   "metadata": {},
   "outputs": [
    {
     "data": {
      "text/plain": [
       "tensor([[ 0.6771,  0.0639, -0.4088, -0.3287,  0.0394],\n",
       "        [-0.4094,  0.7559, -0.1122, -0.8051,  0.4162],\n",
       "        [-1.9714,  0.6883, -0.1474,  0.0720,  1.0881],\n",
       "        [ 0.0518,  0.1496, -0.4576, -1.0326,  1.8557]])"
      ]
     },
     "execution_count": 3,
     "metadata": {},
     "output_type": "execute_result"
    }
   ],
   "source": [
    "x"
   ]
  },
  {
   "cell_type": "code",
   "execution_count": 4,
   "metadata": {},
   "outputs": [
    {
     "data": {
      "text/plain": [
       "tensor([[ 0.6771, -0.4094, -1.9714,  0.0518],\n",
       "        [ 0.0639,  0.7559,  0.6883,  0.1496],\n",
       "        [-0.4088, -0.1122, -0.1474, -0.4576],\n",
       "        [-0.3287, -0.8051,  0.0720, -1.0326],\n",
       "        [ 0.0394,  0.4162,  1.0881,  1.8557]])"
      ]
     },
     "execution_count": 4,
     "metadata": {},
     "output_type": "execute_result"
    }
   ],
   "source": [
    "x.t()"
   ]
  },
  {
   "cell_type": "code",
   "execution_count": 5,
   "metadata": {},
   "outputs": [
    {
     "data": {
      "text/plain": [
       "tensor([[ 0.6771, -0.4094, -1.9714,  0.0518],\n",
       "        [ 0.0639,  0.7559,  0.6883,  0.1496],\n",
       "        [-0.4088, -0.1122, -0.1474, -0.4576],\n",
       "        [-0.3287, -0.8051,  0.0720, -1.0326],\n",
       "        [ 0.0394,  0.4162,  1.0881,  1.8557]])"
      ]
     },
     "execution_count": 5,
     "metadata": {},
     "output_type": "execute_result"
    }
   ],
   "source": [
    "x.transpose(1, 0)"
   ]
  },
  {
   "cell_type": "code",
   "execution_count": 6,
   "metadata": {},
   "outputs": [
    {
     "data": {
      "text/plain": [
       "(tensor([ 0.6771, -0.4094, -1.9714,  0.0518]),\n",
       " tensor([0.0639, 0.7559, 0.6883, 0.1496]),\n",
       " tensor([-0.4088, -0.1122, -0.1474, -0.4576]),\n",
       " tensor([-0.3287, -0.8051,  0.0720, -1.0326]),\n",
       " tensor([0.0394, 0.4162, 1.0881, 1.8557]))"
      ]
     },
     "execution_count": 6,
     "metadata": {},
     "output_type": "execute_result"
    }
   ],
   "source": [
    "torch.unbind(x, 1)"
   ]
  },
  {
   "cell_type": "code",
   "execution_count": 7,
   "metadata": {},
   "outputs": [
    {
     "data": {
      "text/plain": [
       "(tensor([ 0.6771,  0.0639, -0.4088, -0.3287,  0.0394]),\n",
       " tensor([-0.4094,  0.7559, -0.1122, -0.8051,  0.4162]),\n",
       " tensor([-1.9714,  0.6883, -0.1474,  0.0720,  1.0881]),\n",
       " tensor([ 0.0518,  0.1496, -0.4576, -1.0326,  1.8557]))"
      ]
     },
     "execution_count": 7,
     "metadata": {},
     "output_type": "execute_result"
    }
   ],
   "source": [
    "torch.unbind(x)"
   ]
  }
 ],
 "metadata": {
  "kernelspec": {
   "display_name": "enfy",
   "language": "python",
   "name": "enfy"
  },
  "language_info": {
   "codemirror_mode": {
    "name": "ipython",
    "version": 3
   },
   "file_extension": ".py",
   "mimetype": "text/x-python",
   "name": "python",
   "nbconvert_exporter": "python",
   "pygments_lexer": "ipython3",
   "version": "3.8.16"
  },
  "orig_nbformat": 4
 },
 "nbformat": 4,
 "nbformat_minor": 2
}

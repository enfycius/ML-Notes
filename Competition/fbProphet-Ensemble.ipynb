{
 "cells": [
  {
   "cell_type": "code",
   "execution_count": 37,
   "metadata": {},
   "outputs": [],
   "source": [
    "import pandas as pd\n",
    "from prophet import Prophet\n",
    "import matplotlib.pyplot as plt\n",
    "import random\n",
    "import os\n",
    "import torch\n",
    "import numpy as np"
   ]
  },
  {
   "cell_type": "code",
   "execution_count": null,
   "metadata": {},
   "outputs": [],
   "source": [
    "pred_len = 24 * 63"
   ]
  },
  {
   "cell_type": "code",
   "execution_count": null,
   "metadata": {},
   "outputs": [],
   "source": [
    "sub = pd.read_csv(\"./.csv\")"
   ]
  },
  {
   "cell_type": "code",
   "execution_count": null,
   "metadata": {},
   "outputs": [],
   "source": [
    "sub[\"Time\"] = pd.to_datetime(sub[\"Time\"])"
   ]
  },
  {
   "cell_type": "code",
   "execution_count": null,
   "metadata": {},
   "outputs": [],
   "source": [
    "class ProphetAVG:\n",
    "    def __init__(self, scale1=0.01, scale2=0.1):\n",
    "        self.models = [\n",
    "            Prophet(seasonality_mode=\"additive\", changepoint_range=1,\n",
    "                    changepoint_prior_scale=scale1),\n",
    "            Prophet(seasonality_mode=\"additive\", changepoint_range=1,\n",
    "                    changepoint_prior_scale=scale2)\n",
    "        ]\n",
    "\n",
    "        self.forecasts = []\n",
    "        self.df = None\n",
    "\n",
    "    def fit(self, data):\n",
    "        for model in self.models:\n",
    "            model.fit(data)\n",
    "\n",
    "    def predict(self, periods=pred_len, freq=\"h\"):\n",
    "        future_frames = [model.make_future_dataframe(periods=periods, freq=freq) for model in self.models]\n",
    "        forecasts = [model.predict(future) for model, future in zip(self.models, future_frames)]\n",
    "        \n",
    "        # 두 모델의 평균 예측 생성\n",
    "        avg_forecast = pd.concat([forecast['yhat'] for forecast in forecasts], axis=1).mean(axis=1)\n",
    "\n",
    "        self.df = pd.DataFrame({\n",
    "            \"Time\": sub[\"Time\"],\n",
    "            \"Close\": avg_forecast[-periods:].reset_index(drop=True)\n",
    "        })\n",
    "\n",
    "        return self.df\n",
    "    \n",
    "    def plot(self):\n",
    "        plt.figure(figsize=(12, 6))\n",
    "        plt.plot(self.df[\"Time\"], self.df[\"Close\"], label=\"Prediction\", marker=\"o\", linestyle=\"-\")\n",
    "        plt.xlabel(\"Time\")\n",
    "        plt.ylabel(\"Close Price\")\n",
    "        plt.legend()\n",
    "        plt.grid(True)\n",
    "        plt.xticks(rotation=45)\n",
    "        plt.tight_layout()\n",
    "        plt.show()"
   ]
  }
 ],
 "metadata": {
  "kernelspec": {
   "display_name": "papers",
   "language": "python",
   "name": "papers"
  },
  "language_info": {
   "codemirror_mode": {
    "name": "ipython",
    "version": 3
   },
   "file_extension": ".py",
   "mimetype": "text/x-python",
   "name": "python",
   "nbconvert_exporter": "python",
   "pygments_lexer": "ipython3",
   "version": "3.8.19"
  }
 },
 "nbformat": 4,
 "nbformat_minor": 2
}

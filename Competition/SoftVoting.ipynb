{
 "cells": [
  {
   "cell_type": "code",
   "execution_count": 45,
   "metadata": {},
   "outputs": [],
   "source": [
    "import sklearn\n",
    "\n",
    "from sklearn.ensemble import VotingRegressor\n",
    "from sklearn.preprocessing import LabelEncoder\n",
    "from sklearn.metrics import *\n",
    "\n",
    "import xgboost\n",
    "from xgboost import XGBRegressor\n",
    "\n",
    "import catboost\n",
    "from catboost import CatBoostRegressor\n",
    "\n",
    "from lightgbm import LGBMRegressor"
   ]
  },
  {
   "cell_type": "code",
   "execution_count": null,
   "metadata": {},
   "outputs": [],
   "source": [
    "from sklearn.model_selection import cross_val_score"
   ]
  },
  {
   "cell_type": "code",
   "execution_count": null,
   "metadata": {},
   "outputs": [],
   "source": []
  },
  {
   "cell_type": "code",
   "execution_count": 40,
   "metadata": {},
   "outputs": [],
   "source": [
    "import numpy as np"
   ]
  },
  {
   "cell_type": "code",
   "execution_count": 41,
   "metadata": {},
   "outputs": [],
   "source": [
    "# Optuna 이용하여 최적화할 목적 함수 정의\n",
    "def objective(trial):\n",
    "    lgbm_params = {\n",
    "        \"n_estimators\": trial.suggest_int(\"lgbm_n_estimators\", 100, 1000),\n",
    "        \"learning_rate\": trial.suggest_float(\"lgbm_learning_rate\", 0.01, 0.1),\n",
    "        \"max_depth\": trial.suggest_int(\"lgbm_max_depth\", 3, 20),\n",
    "        \"num_leaves\": trial.suggest_int(\"lgbm_num_leaves\", 20, 100),\n",
    "    }\n",
    "\n",
    "    xgb_params = {\n",
    "        \"n_estimators\": trial.suggest_int(\"xgb_n_estimators\", 100, 1000),\n",
    "        \"learning_rate\": trial.suggest_float(\"xgb_learning_rate\", 0.01, 0.1),\n",
    "        \"max_depth\": trial.suggest_int(\"xgb_max_depth\", 3, 20),\n",
    "    }\n",
    "\n",
    "    cat_params = {\n",
    "        \"iterations\": trial.suggest_int(\"cat_iterations\", 100, 1000),\n",
    "        \"learning_rate\": trial.suggest_float(\"cat_learning_rate\", 0.01, 0.1),\n",
    "        \"depth\": trial.suggest_int(\"cat_depth\", 3, 10),\n",
    "    }\n",
    "\n",
    "    lgbm_model = LGBMRegressor(**lgbm_params)\n",
    "    xgb_model = XGBRegressor(**xgb_params)\n",
    "    catboost_model = CatBoostRegressor(**cat_params, verbose=False)\n",
    "\n",
    "    voting_regressor = VotingRegressor(\n",
    "        estimators=[\n",
    "            (\"lgbm\", lgbm_model),\n",
    "            (\"xgb\", xgb_model),\n",
    "            (\"catboost\", catboost_model)\n",
    "        ]\n",
    "    )\n",
    "\n",
    "    scores = cross_val_score(voting_regressor, X, y, cv=3, scoring=\"neg_mean_squared_error\", error_score=\"raise\")\n",
    "    rmse_score = np.mean(np.sqrt(-scores))\n",
    "\n",
    "    return rmse_score\n",
    "\n",
    "    "
   ]
  },
  {
   "cell_type": "code",
   "execution_count": 43,
   "metadata": {},
   "outputs": [
    {
     "name": "stdout",
     "output_type": "stream",
     "text": [
      "Collecting optuna\n",
      "  Obtaining dependency information for optuna from https://files.pythonhosted.org/packages/15/da/68883911855d8b4d521f9a370e4e6aab8232b91c1d8d5a8348c4680c6642/optuna-3.6.1-py3-none-any.whl.metadata\n",
      "  Downloading optuna-3.6.1-py3-none-any.whl.metadata (17 kB)\n",
      "Collecting alembic>=1.5.0 (from optuna)\n",
      "  Obtaining dependency information for alembic>=1.5.0 from https://files.pythonhosted.org/packages/df/ed/c884465c33c25451e4a5cd4acad154c29e5341e3214e220e7f3478aa4b0d/alembic-1.13.2-py3-none-any.whl.metadata\n",
      "  Downloading alembic-1.13.2-py3-none-any.whl.metadata (7.4 kB)\n",
      "Collecting colorlog (from optuna)\n",
      "  Obtaining dependency information for colorlog from https://files.pythonhosted.org/packages/f3/18/3e867ab37a24fdf073c1617b9c7830e06ec270b1ea4694a624038fc40a03/colorlog-6.8.2-py3-none-any.whl.metadata\n",
      "  Downloading colorlog-6.8.2-py3-none-any.whl.metadata (10 kB)\n",
      "Requirement already satisfied: numpy in /root/anaconda3/lib/python3.11/site-packages (from optuna) (1.23.5)\n",
      "Requirement already satisfied: packaging>=20.0 in /root/anaconda3/lib/python3.11/site-packages (from optuna) (23.0)\n",
      "Requirement already satisfied: sqlalchemy>=1.3.0 in /root/anaconda3/lib/python3.11/site-packages (from optuna) (1.4.39)\n",
      "Requirement already satisfied: tqdm in /root/anaconda3/lib/python3.11/site-packages (from optuna) (4.65.0)\n",
      "Requirement already satisfied: PyYAML in /root/anaconda3/lib/python3.11/site-packages (from optuna) (6.0)\n",
      "Collecting Mako (from alembic>=1.5.0->optuna)\n",
      "  Obtaining dependency information for Mako from https://files.pythonhosted.org/packages/03/62/70f5a0c2dd208f9f3f2f9afd103aec42ee4d9ad2401d78342f75e9b8da36/Mako-1.3.5-py3-none-any.whl.metadata\n",
      "  Downloading Mako-1.3.5-py3-none-any.whl.metadata (2.9 kB)\n",
      "Requirement already satisfied: typing-extensions>=4 in /root/anaconda3/lib/python3.11/site-packages (from alembic>=1.5.0->optuna) (4.7.1)\n",
      "Requirement already satisfied: greenlet!=0.4.17 in /root/anaconda3/lib/python3.11/site-packages (from sqlalchemy>=1.3.0->optuna) (3.0.3)\n",
      "Requirement already satisfied: MarkupSafe>=0.9.2 in /root/anaconda3/lib/python3.11/site-packages (from Mako->alembic>=1.5.0->optuna) (2.1.1)\n",
      "Downloading optuna-3.6.1-py3-none-any.whl (380 kB)\n",
      "\u001b[2K   \u001b[90m━━━━━━━━━━━━━━━━━━━━━━━━━━━━━━━━━━━━━━━━\u001b[0m \u001b[32m380.1/380.1 kB\u001b[0m \u001b[31m13.7 MB/s\u001b[0m eta \u001b[36m0:00:00\u001b[0m\n",
      "\u001b[?25hDownloading alembic-1.13.2-py3-none-any.whl (232 kB)\n",
      "\u001b[2K   \u001b[90m━━━━━━━━━━━━━━━━━━━━━━━━━━━━━━━━━━━━━━━━\u001b[0m \u001b[32m233.0/233.0 kB\u001b[0m \u001b[31m23.3 MB/s\u001b[0m eta \u001b[36m0:00:00\u001b[0m\n",
      "\u001b[?25hDownloading colorlog-6.8.2-py3-none-any.whl (11 kB)\n",
      "Downloading Mako-1.3.5-py3-none-any.whl (78 kB)\n",
      "\u001b[2K   \u001b[90m━━━━━━━━━━━━━━━━━━━━━━━━━━━━━━━━━━━━━━━━\u001b[0m \u001b[32m78.6/78.6 kB\u001b[0m \u001b[31m4.1 MB/s\u001b[0m eta \u001b[36m0:00:00\u001b[0m\n",
      "\u001b[?25hInstalling collected packages: Mako, colorlog, alembic, optuna\n",
      "Successfully installed Mako-1.3.5 alembic-1.13.2 colorlog-6.8.2 optuna-3.6.1\n",
      "\u001b[33mWARNING: Running pip as the 'root' user can result in broken permissions and conflicting behaviour with the system package manager. It is recommended to use a virtual environment instead: https://pip.pypa.io/warnings/venv\u001b[0m\u001b[33m\n",
      "\u001b[0m"
     ]
    }
   ],
   "source": [
    "!pip3 install optuna"
   ]
  },
  {
   "cell_type": "code",
   "execution_count": 44,
   "metadata": {},
   "outputs": [
    {
     "ename": "ModuleNotFoundError",
     "evalue": "No module named 'optuna'",
     "output_type": "error",
     "traceback": [
      "\u001b[0;31m---------------------------------------------------------------------------\u001b[0m",
      "\u001b[0;31mModuleNotFoundError\u001b[0m                       Traceback (most recent call last)",
      "Cell \u001b[0;32mIn[44], line 1\u001b[0m\n\u001b[0;32m----> 1\u001b[0m \u001b[38;5;28;01mimport\u001b[39;00m \u001b[38;5;21;01moptuna\u001b[39;00m\n",
      "\u001b[0;31mModuleNotFoundError\u001b[0m: No module named 'optuna'"
     ]
    }
   ],
   "source": [
    "import optuna"
   ]
  },
  {
   "cell_type": "code",
   "execution_count": null,
   "metadata": {},
   "outputs": [],
   "source": [
    "study = optuna.create_study(direction=\"minimize\")\n",
    "study.optimize(objective, n_trials=10)\n",
    "\n",
    "trial = study.best_trial\n",
    "\n",
    "print(\"Value:\", trial.value)\n",
    "print(\"Params:\")\n",
    "for key, value in trial.params.items():\n",
    "    print(f\"{key}: {value}\")"
   ]
  },
  {
   "cell_type": "code",
   "execution_count": 46,
   "metadata": {},
   "outputs": [],
   "source": [
    "from sklearn.ensemble import VotingRegressor"
   ]
  },
  {
   "cell_type": "code",
   "execution_count": 48,
   "metadata": {},
   "outputs": [
    {
     "ename": "NameError",
     "evalue": "name 'study' is not defined",
     "output_type": "error",
     "traceback": [
      "\u001b[0;31m---------------------------------------------------------------------------\u001b[0m",
      "\u001b[0;31mNameError\u001b[0m                                 Traceback (most recent call last)",
      "Cell \u001b[0;32mIn[48], line 2\u001b[0m\n\u001b[1;32m      1\u001b[0m best_lgbm_params \u001b[38;5;241m=\u001b[39m {\n\u001b[0;32m----> 2\u001b[0m     \u001b[38;5;124m\"\u001b[39m\u001b[38;5;124mn_estimators\u001b[39m\u001b[38;5;124m\"\u001b[39m: \u001b[43mstudy\u001b[49m\u001b[38;5;241m.\u001b[39mbest_params[\u001b[38;5;124m\"\u001b[39m\u001b[38;5;124mlgbm_n_estimators\u001b[39m\u001b[38;5;124m\"\u001b[39m],\n\u001b[1;32m      3\u001b[0m     \u001b[38;5;124m\"\u001b[39m\u001b[38;5;124mlearning_rate\u001b[39m\u001b[38;5;124m\"\u001b[39m: study\u001b[38;5;241m.\u001b[39mbest_params[\u001b[38;5;124m\"\u001b[39m\u001b[38;5;124mlgbm_learning_rate\u001b[39m\u001b[38;5;124m\"\u001b[39m],\n\u001b[1;32m      4\u001b[0m     \u001b[38;5;124m\"\u001b[39m\u001b[38;5;124mmax_depth\u001b[39m\u001b[38;5;124m\"\u001b[39m: study\u001b[38;5;241m.\u001b[39mbest_params[\u001b[38;5;124m\"\u001b[39m\u001b[38;5;124mlgbm_max_depth\u001b[39m\u001b[38;5;124m\"\u001b[39m],\n\u001b[1;32m      5\u001b[0m     \u001b[38;5;124m\"\u001b[39m\u001b[38;5;124mnum_leaves\u001b[39m\u001b[38;5;124m\"\u001b[39m: study\u001b[38;5;241m.\u001b[39mbest_params[\u001b[38;5;124m\"\u001b[39m\u001b[38;5;124mlgbm_num_leaves\u001b[39m\u001b[38;5;124m\"\u001b[39m],\n\u001b[1;32m      6\u001b[0m     \u001b[38;5;124m\"\u001b[39m\u001b[38;5;124mn_jobs\u001b[39m\u001b[38;5;124m\"\u001b[39m: \u001b[38;5;241m-\u001b[39m\u001b[38;5;241m1\u001b[39m,\n\u001b[1;32m      7\u001b[0m }\n\u001b[1;32m      9\u001b[0m best_xgb_params \u001b[38;5;241m=\u001b[39m {\n\u001b[1;32m     10\u001b[0m     \u001b[38;5;124m\"\u001b[39m\u001b[38;5;124mn_estimators\u001b[39m\u001b[38;5;124m\"\u001b[39m: study\u001b[38;5;241m.\u001b[39mbest_params[\u001b[38;5;124m\"\u001b[39m\u001b[38;5;124mxgb_n_estimators\u001b[39m\u001b[38;5;124m\"\u001b[39m],\n\u001b[1;32m     11\u001b[0m     \u001b[38;5;124m\"\u001b[39m\u001b[38;5;124mlearning_rate\u001b[39m\u001b[38;5;124m\"\u001b[39m: study\u001b[38;5;241m.\u001b[39mbest_params[\u001b[38;5;124m\"\u001b[39m\u001b[38;5;124mxgb_learning_rate\u001b[39m\u001b[38;5;124m\"\u001b[39m],\n\u001b[1;32m     12\u001b[0m     \u001b[38;5;124m\"\u001b[39m\u001b[38;5;124mmax_depth\u001b[39m\u001b[38;5;124m\"\u001b[39m: study\u001b[38;5;241m.\u001b[39mbest_params[\u001b[38;5;124m\"\u001b[39m\u001b[38;5;124mxgb_max_depth\u001b[39m\u001b[38;5;124m\"\u001b[39m],\n\u001b[1;32m     13\u001b[0m     \u001b[38;5;124m\"\u001b[39m\u001b[38;5;124mn_jobs\u001b[39m\u001b[38;5;124m\"\u001b[39m: \u001b[38;5;241m-\u001b[39m\u001b[38;5;241m1\u001b[39m,\n\u001b[1;32m     14\u001b[0m }\n\u001b[1;32m     16\u001b[0m best_cat_params \u001b[38;5;241m=\u001b[39m {\n\u001b[1;32m     17\u001b[0m     \n\u001b[1;32m     18\u001b[0m }\n",
      "\u001b[0;31mNameError\u001b[0m: name 'study' is not defined"
     ]
    }
   ],
   "source": [
    "best_lgbm_params = {\n",
    "    \"n_estimators\": study.best_params[\"lgbm_n_estimators\"],\n",
    "    \"learning_rate\": study.best_params[\"lgbm_learning_rate\"],\n",
    "    \"max_depth\": study.best_params[\"lgbm_max_depth\"],\n",
    "    \"num_leaves\": study.best_params[\"lgbm_num_leaves\"],\n",
    "    \"n_jobs\": -1,\n",
    "}\n",
    "\n",
    "best_xgb_params = {\n",
    "    \"n_estimators\": study.best_params[\"xgb_n_estimators\"],\n",
    "    \"learning_rate\": study.best_params[\"xgb_learning_rate\"],\n",
    "    \"max_depth\": study.best_params[\"xgb_max_depth\"],\n",
    "    \"n_jobs\": -1,\n",
    "}\n",
    "\n",
    "best_cat_params = {\n",
    "    \"iterations\": study.best_params[\"cat_iterations\"],\n",
    "    \"learning_rate\": study.best_params[\"cat_learning_rate\"],\n",
    "    \"depth\": study.best_params[\"cat_depth\"],\n",
    "    \"verbose\": 0,\n",
    "}\n",
    "\n",
    "lgbm_model = LGBMRegressor(**best_lgbm_params)\n",
    "xgb_model = XGBRegressor(**best_xgb_params)\n",
    "catboost_model = CatBoostRegressor(**best_cat_params)\n",
    "\n",
    "voting_regressor = VotingRegressor(\n",
    "    estimators=[\n",
    "        (\"lgbm\", lgbm_model),\n",
    "        (\"xgb\", xgb_model),\n",
    "        (\"catboost\", catboost_model)\n",
    "    ],\n",
    "    weights=[2, 1, 2]   # LGBM과 CatBoost에 더 높은 가중치 부여\n",
    ")\n",
    "\n",
    "voting_regressor.fit(X, y)\n",
    "\n",
    "predictions = voting_regressor.predict(test_data)"
   ]
  },
  {
   "cell_type": "code",
   "execution_count": null,
   "metadata": {},
   "outputs": [],
   "source": []
  }
 ],
 "metadata": {
  "kernelspec": {
   "display_name": "papers",
   "language": "python",
   "name": "papers"
  },
  "language_info": {
   "codemirror_mode": {
    "name": "ipython",
    "version": 3
   },
   "file_extension": ".py",
   "mimetype": "text/x-python",
   "name": "python",
   "nbconvert_exporter": "python",
   "pygments_lexer": "ipython3",
   "version": "3.8.19"
  }
 },
 "nbformat": 4,
 "nbformat_minor": 2
}
